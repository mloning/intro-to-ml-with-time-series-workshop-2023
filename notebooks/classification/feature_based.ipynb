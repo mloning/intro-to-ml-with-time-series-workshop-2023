{
 "cells": [
  {
   "cell_type": "markdown",
   "metadata": {
    "collapsed": false,
    "jupyter": {
     "outputs_hidden": false
    }
   },
   "source": [
    "# Feature based time series classification in aeon\n",
    "\n",
    "Feature based classifiers are a popular recent theme in TSC. The feature\n",
    "based classifiers we provide are simply pipelines of transform and classifier. They\n",
    "extract descriptive statistics as features from time series to be used in\n",
    "classifiers. Several tool-kits exist for extracting features.\n",
    "\n",
    "\n",
    "<img src=\"./img/pipeline.png\" width=\"800\" alt=\"Pipeline classifier.\">\n",
    "\n",
    "\n",
    "## Imports and Load Data"
   ]
  },
  {
   "cell_type": "code",
   "execution_count": 1,
   "metadata": {
    "collapsed": false,
    "jupyter": {
     "outputs_hidden": false
    }
   },
   "outputs": [
    {
     "name": "stdout",
     "output_type": "stream",
     "text": [
      "(67, 1, 24) (67,) (50, 1, 24) (50,)\n",
      "(20, 6, 100) (20,) (20, 6, 100) (20,)\n"
     ]
    },
    {
     "name": "stderr",
     "output_type": "stream",
     "text": [
      "OMP: Info #276: omp_set_nested routine deprecated, please use omp_set_max_active_levels instead.\n"
     ]
    },
    {
     "data": {
      "text/plain": [
       "[('Catch22Classifier',\n",
       "  aeon.classification.feature_based._catch22.Catch22Classifier),\n",
       " ('FreshPRINCEClassifier',\n",
       "  aeon.classification.feature_based._fresh_prince.FreshPRINCEClassifier),\n",
       " ('SignatureClassifier',\n",
       "  aeon.classification.feature_based._signature_classifier.SignatureClassifier),\n",
       " ('SummaryClassifier',\n",
       "  aeon.classification.feature_based._summary_classifier.SummaryClassifier),\n",
       " ('TSFreshClassifier',\n",
       "  aeon.classification.feature_based._tsfresh_classifier.TSFreshClassifier)]"
      ]
     },
     "execution_count": 1,
     "metadata": {},
     "output_type": "execute_result"
    }
   ],
   "source": [
    "import warnings\n",
    "\n",
    "from sklearn import metrics\n",
    "\n",
    "from aeon.classification.feature_based import Catch22Classifier, FreshPRINCEClassifier\n",
    "from aeon.datasets import load_basic_motions, load_italy_power_demand\n",
    "from aeon.registry import all_estimators\n",
    "from aeon.transformations.collection.catch22 import Catch22\n",
    "\n",
    "warnings.filterwarnings(\"ignore\")\n",
    "\n",
    "X_train, y_train = load_italy_power_demand(split=\"train\")\n",
    "X_test, y_test = load_italy_power_demand(split=\"test\")\n",
    "X_test = X_test[:50]\n",
    "y_test = y_test[:50]\n",
    "\n",
    "print(X_train.shape, y_train.shape, X_test.shape, y_test.shape)\n",
    "\n",
    "X_train_mv, y_train_mv = load_basic_motions(split=\"train\")\n",
    "X_test_mv, y_test_mv = load_basic_motions(split=\"test\")\n",
    "\n",
    "X_train_mv = X_train_mv[:20]\n",
    "y_train_mv = y_train_mv[:20]\n",
    "X_test_mv = X_test_mv[:20]\n",
    "y_test_mv = y_test_mv[:20]\n",
    "\n",
    "print(X_train_mv.shape, y_train_mv.shape, X_test_mv.shape, y_test_mv.shape)\n",
    "all_estimators(\"classifier\", filter_tags={\"algorithm_type\": \"feature\"})"
   ]
  },
  {
   "cell_type": "markdown",
   "metadata": {
    "collapsed": false,
    "jupyter": {
     "outputs_hidden": false
    }
   },
   "source": [
    "### Catch22 and the Catch22Classifier\n",
    "\n",
    "The highly comparative time-series analysis (hctsa) [1] toolbox can create over 7700\n",
    "features for exploratory time series analysis. The canonical time series\n",
    "characteristics (catch22) [2] are 22 hctsa features determined to be the most\n",
    "discriminatory of the full  set. The catch22 were chosen by an evaluation on the UCR\n",
    "datasets. The hctsa features were initially pruned, removing those which are\n",
    "sensitive to mean and variance and any which could not be calculated on over 80\\% of\n",
    "the UCR  datasets. A feature evaluation was then performed based on predictive\n",
    "performance. Any features which performed below a threshold were removed. For the\n",
    "remaining features, a hierarchical clustering was performed on the correlation matrix\n",
    " to remove redundancy. From each of the 22 clusters formed, a single feature was\n",
    " selected, taking into account balanced accuracy, computational efficiency and\n",
    " interpretability. The catch22 features cover a wide range of concepts such as basic\n",
    " statistics of data series values, linear correlations, and entropy. Reported results\n",
    "  for catch22 build a decision tree classifier after applying the transform to each\n",
    "  data series.\n",
    "\n",
    "The Catch22Classifier is simply a convenient wrapper for a pipelin of a Catch22\n",
    "transformation and a sklearn random forest classifier by default."
   ]
  },
  {
   "cell_type": "code",
   "execution_count": 2,
   "metadata": {
    "collapsed": false,
    "jupyter": {
     "outputs_hidden": false
    }
   },
   "outputs": [
    {
     "data": {
      "text/plain": [
       "(67, 22)"
      ]
     },
     "execution_count": 2,
     "metadata": {},
     "output_type": "execute_result"
    }
   ],
   "source": [
    "c22 = Catch22()\n",
    "x_trans = c22.fit_transform(X_train)\n",
    "x_trans.shape"
   ]
  },
  {
   "cell_type": "code",
   "execution_count": 3,
   "metadata": {
    "collapsed": false,
    "jupyter": {
     "outputs_hidden": false
    }
   },
   "outputs": [
    {
     "data": {
      "text/plain": [
       "0.86"
      ]
     },
     "execution_count": 3,
     "metadata": {},
     "output_type": "execute_result"
    }
   ],
   "source": [
    "c22cls = Catch22Classifier()\n",
    "c22cls.fit(X_train, y_train)\n",
    "c22_preds = c22cls.predict(X_test)\n",
    "metrics.accuracy_score(y_test, c22_preds)"
   ]
  },
  {
   "attachments": {},
   "cell_type": "markdown",
   "metadata": {
    "collapsed": false,
    "jupyter": {
     "outputs_hidden": false
    }
   },
   "source": [
    "### TSFresh and the FreshPRINCEClassifier\n",
    "\n",
    "Time Series Feature Extraction based on Scalable Hypothesis Tests ([TSFresh](https://tsfresh.readthedocs.io/en/latest/)) is a\n",
    "collection of just under 800 features extracted from time series. An extensive\n",
    "comparison of feature based pipelines [3] found that TSFresh followed by a rotation\n",
    "forest classifier [4] was significantly more accurate than other combinations. This\n",
    "pipeline is hard coded into an aeon classifier called the FreshPRINCEClassifier."
   ]
  },
  {
   "cell_type": "code",
   "execution_count": 4,
   "metadata": {
    "collapsed": false,
    "jupyter": {
     "outputs_hidden": false
    }
   },
   "outputs": [
    {
     "data": {
      "text/plain": [
       "0.86"
      ]
     },
     "execution_count": 4,
     "metadata": {},
     "output_type": "execute_result"
    }
   ],
   "source": [
    "fp = FreshPRINCEClassifier()\n",
    "fp.fit(X_train, y_train)\n",
    "fp_preds = c22cls.predict(X_test)\n",
    "metrics.accuracy_score(y_test, fp_preds)"
   ]
  },
  {
   "cell_type": "markdown",
   "metadata": {
    "collapsed": false,
    "jupyter": {
     "outputs_hidden": false
    }
   },
   "source": [
    "## References\n",
    "\n",
    "[1]htsc repo https://github.com/benfulcher/hctsa\n",
    "[2] Christ,  et al.  (2018) \"Time series feature extraction on basis of scalable\n",
    "hypothesis tests (tsfresh–a python package).\" Neurocomputing 307: 72-77.\n",
    "        https://www.sciencedirect.com/science/article/pii/S0925231218304843\n",
    "[3] Midddlehurst and Bagnall (2022) \"The FreshPRINCE: A Simple Transformation Based\n",
    "Pipeline Time Series Classifier\" https://arxiv.org/abs/2201.12048\n",
    "[4] Rodriguez et al. (2006) \"Rotation Forest: A New Classifier Ensemble Method\" IEEE\n",
    "Transactions on Pattern Analysis and Machine Intelligence, 28(10): 1619--1630.\n",
    "[5] Morrill et al. (2020) \"A generalised signature method for multivariate time series\n",
    "feature extraction\" https://arxiv.org/abs/2006.00873\n",
    "\n",
    "\n"
   ]
  }
 ],
 "metadata": {
  "kernelspec": {
   "display_name": "Python 3 (ipykernel)",
   "language": "python",
   "name": "python3"
  },
  "language_info": {
   "codemirror_mode": {
    "name": "ipython",
    "version": 3
   },
   "file_extension": ".py",
   "mimetype": "text/x-python",
   "name": "python",
   "nbconvert_exporter": "python",
   "pygments_lexer": "ipython3",
   "version": "3.11.6"
  }
 },
 "nbformat": 4,
 "nbformat_minor": 4
}
